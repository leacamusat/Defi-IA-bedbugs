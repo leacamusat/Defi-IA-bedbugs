{
 "cells": [
  {
   "cell_type": "markdown",
   "id": "ff88b5e7",
   "metadata": {},
   "source": [
    "# Défi IA 2023 \n",
    "## Bedbugs - INSA 5 MA\n",
    "## Lila, Léa & Flavie\n",
    "\n",
    "# Code de requêtes\n"
   ]
  },
  {
   "cell_type": "code",
   "execution_count": 1,
   "id": "5b93eac6",
   "metadata": {},
   "outputs": [],
   "source": [
    "# librairies\n",
    "# --------------------------------------------\n",
    "from datetime import datetime\n",
    "import pandas\n",
    "import numpy as np\n",
    "import json\n",
    "import csv\n",
    "import time\n",
    "import requests\n",
    "import pandas as pd \n",
    "import urllib.parse"
   ]
  },
  {
   "cell_type": "code",
   "execution_count": 2,
   "id": "be2ccfc7",
   "metadata": {},
   "outputs": [],
   "source": [
    "# connexions à l'api\n",
    "# --------------------------------------------\n",
    "domain = \"51.91.251.0\"\n",
    "port = 3000\n",
    "host = f\"http://{domain}:{port}\"\n",
    "path = lambda x: urllib.parse.urljoin(host, x)\n",
    "\n",
    "user_id = 'f80b400f-3d29-43f0-8049-214a756ff0b3' # notre user ID reçu par mail"
   ]
  },
  {
   "cell_type": "markdown",
   "id": "ce1f6d8d",
   "metadata": {},
   "source": [
    "### Création d'un dataset des requêtes possibles (hors variation des jours (date))\n",
    "- Stockage dans un fichier csv : allrequest.csv"
   ]
  },
  {
   "cell_type": "markdown",
   "id": "b7362465",
   "metadata": {},
   "source": [
    "<font color = 'red'>ok c'est fait ! Il faut rajouter la ville 'belgian' dans la lst2 et recontruire notre dataframe `allresquest` </font>\n"
   ]
  },
  {
   "cell_type": "code",
   "execution_count": 3,
   "id": "9cb30faa",
   "metadata": {},
   "outputs": [
    {
     "name": "stdout",
     "output_type": "stream",
     "text": [
      "27\n"
     ]
    }
   ],
   "source": [
    "'''lst1=[0,1]   \n",
    "lst2=['austrian', 'belgian', 'bulgarian', 'croatian', 'cypriot', 'czech', 'danish', 'dutch', 'estonian', 'finnish', 'french', 'german', 'greek', 'hungarian', 'irish', 'italian', 'latvian', 'lithuanian', 'luxembourgish', 'maltese', 'polish', 'portuguese', 'romanian', 'slovakian', 'slovene', 'spanish','swedish']\n",
    "lst3=['amsterdam', 'copenhagen', 'madrid','paris', 'rome', 'sofia', 'valletta', 'vienna', 'vilnius']\n",
    "print(len(lst2))\n",
    "lst = [[[j,k,l] for j in lst1] for k in lst2 for l in lst3]\n",
    "\n",
    "A=np.array(lst)\n",
    "A=np.reshape(A, (-1,3))\n",
    "all_requests=pandas.DataFrame(A, columns=[\"mobile\", \"language\", \"city\"])\n",
    "all_requests\n",
    "all_requests.to_csv('allrequest.csv', index=False)\n",
    "'''"
   ]
  },
  {
   "cell_type": "code",
   "execution_count": 3,
   "id": "72e04ab5",
   "metadata": {},
   "outputs": [
    {
     "data": {
      "text/html": [
       "<div>\n",
       "<style scoped>\n",
       "    .dataframe tbody tr th:only-of-type {\n",
       "        vertical-align: middle;\n",
       "    }\n",
       "\n",
       "    .dataframe tbody tr th {\n",
       "        vertical-align: top;\n",
       "    }\n",
       "\n",
       "    .dataframe thead th {\n",
       "        text-align: right;\n",
       "    }\n",
       "</style>\n",
       "<table border=\"1\" class=\"dataframe\">\n",
       "  <thead>\n",
       "    <tr style=\"text-align: right;\">\n",
       "      <th></th>\n",
       "      <th>mobile</th>\n",
       "      <th>language</th>\n",
       "      <th>city</th>\n",
       "    </tr>\n",
       "  </thead>\n",
       "  <tbody>\n",
       "    <tr>\n",
       "      <th>0</th>\n",
       "      <td>0</td>\n",
       "      <td>austrian</td>\n",
       "      <td>amsterdam</td>\n",
       "    </tr>\n",
       "    <tr>\n",
       "      <th>1</th>\n",
       "      <td>1</td>\n",
       "      <td>austrian</td>\n",
       "      <td>amsterdam</td>\n",
       "    </tr>\n",
       "    <tr>\n",
       "      <th>2</th>\n",
       "      <td>0</td>\n",
       "      <td>austrian</td>\n",
       "      <td>copenhagen</td>\n",
       "    </tr>\n",
       "    <tr>\n",
       "      <th>3</th>\n",
       "      <td>1</td>\n",
       "      <td>austrian</td>\n",
       "      <td>copenhagen</td>\n",
       "    </tr>\n",
       "    <tr>\n",
       "      <th>4</th>\n",
       "      <td>0</td>\n",
       "      <td>austrian</td>\n",
       "      <td>madrid</td>\n",
       "    </tr>\n",
       "    <tr>\n",
       "      <th>...</th>\n",
       "      <td>...</td>\n",
       "      <td>...</td>\n",
       "      <td>...</td>\n",
       "    </tr>\n",
       "    <tr>\n",
       "      <th>481</th>\n",
       "      <td>1</td>\n",
       "      <td>swedish</td>\n",
       "      <td>valletta</td>\n",
       "    </tr>\n",
       "    <tr>\n",
       "      <th>482</th>\n",
       "      <td>0</td>\n",
       "      <td>swedish</td>\n",
       "      <td>vienna</td>\n",
       "    </tr>\n",
       "    <tr>\n",
       "      <th>483</th>\n",
       "      <td>1</td>\n",
       "      <td>swedish</td>\n",
       "      <td>vienna</td>\n",
       "    </tr>\n",
       "    <tr>\n",
       "      <th>484</th>\n",
       "      <td>0</td>\n",
       "      <td>swedish</td>\n",
       "      <td>vilnius</td>\n",
       "    </tr>\n",
       "    <tr>\n",
       "      <th>485</th>\n",
       "      <td>1</td>\n",
       "      <td>swedish</td>\n",
       "      <td>vilnius</td>\n",
       "    </tr>\n",
       "  </tbody>\n",
       "</table>\n",
       "<p>486 rows × 3 columns</p>\n",
       "</div>"
      ],
      "text/plain": [
       "     mobile  language        city\n",
       "0         0  austrian   amsterdam\n",
       "1         1  austrian   amsterdam\n",
       "2         0  austrian  copenhagen\n",
       "3         1  austrian  copenhagen\n",
       "4         0  austrian      madrid\n",
       "..      ...       ...         ...\n",
       "481       1   swedish    valletta\n",
       "482       0   swedish      vienna\n",
       "483       1   swedish      vienna\n",
       "484       0   swedish     vilnius\n",
       "485       1   swedish     vilnius\n",
       "\n",
       "[486 rows x 3 columns]"
      ]
     },
     "execution_count": 3,
     "metadata": {},
     "output_type": "execute_result"
    }
   ],
   "source": [
    "#à faire lors de la première utilisation \n",
    "#1) lecture du csv \n",
    "df = pandas.read_csv('allrequest.csv', header = 0)\n",
    "df"
   ]
  },
  {
   "cell_type": "markdown",
   "id": "6a0020c3",
   "metadata": {},
   "source": [
    "### Création du fichier de nos requêtes effectuées (pas leur résultats)\n",
    "- stockage de la liste des requêtes dans un fichier all_our_requests_done.csv"
   ]
  },
  {
   "cell_type": "code",
   "execution_count": 7,
   "id": "51e7f18d",
   "metadata": {},
   "outputs": [
    {
     "data": {
      "text/html": [
       "<div>\n",
       "<style scoped>\n",
       "    .dataframe tbody tr th:only-of-type {\n",
       "        vertical-align: middle;\n",
       "    }\n",
       "\n",
       "    .dataframe tbody tr th {\n",
       "        vertical-align: top;\n",
       "    }\n",
       "\n",
       "    .dataframe thead th {\n",
       "        text-align: right;\n",
       "    }\n",
       "</style>\n",
       "<table border=\"1\" class=\"dataframe\">\n",
       "  <thead>\n",
       "    <tr style=\"text-align: right;\">\n",
       "      <th></th>\n",
       "      <th>mobile</th>\n",
       "      <th>language</th>\n",
       "      <th>city</th>\n",
       "    </tr>\n",
       "  </thead>\n",
       "  <tbody>\n",
       "    <tr>\n",
       "      <th>0</th>\n",
       "      <td>0</td>\n",
       "      <td>austrian</td>\n",
       "      <td>amsterdam</td>\n",
       "    </tr>\n",
       "    <tr>\n",
       "      <th>1</th>\n",
       "      <td>1</td>\n",
       "      <td>austrian</td>\n",
       "      <td>amsterdam</td>\n",
       "    </tr>\n",
       "    <tr>\n",
       "      <th>2</th>\n",
       "      <td>0</td>\n",
       "      <td>austrian</td>\n",
       "      <td>copenhagen</td>\n",
       "    </tr>\n",
       "    <tr>\n",
       "      <th>3</th>\n",
       "      <td>1</td>\n",
       "      <td>austrian</td>\n",
       "      <td>copenhagen</td>\n",
       "    </tr>\n",
       "    <tr>\n",
       "      <th>4</th>\n",
       "      <td>0</td>\n",
       "      <td>austrian</td>\n",
       "      <td>madrid</td>\n",
       "    </tr>\n",
       "    <tr>\n",
       "      <th>...</th>\n",
       "      <td>...</td>\n",
       "      <td>...</td>\n",
       "      <td>...</td>\n",
       "    </tr>\n",
       "    <tr>\n",
       "      <th>481</th>\n",
       "      <td>1</td>\n",
       "      <td>swedish</td>\n",
       "      <td>valletta</td>\n",
       "    </tr>\n",
       "    <tr>\n",
       "      <th>482</th>\n",
       "      <td>0</td>\n",
       "      <td>swedish</td>\n",
       "      <td>vienna</td>\n",
       "    </tr>\n",
       "    <tr>\n",
       "      <th>483</th>\n",
       "      <td>1</td>\n",
       "      <td>swedish</td>\n",
       "      <td>vienna</td>\n",
       "    </tr>\n",
       "    <tr>\n",
       "      <th>484</th>\n",
       "      <td>0</td>\n",
       "      <td>swedish</td>\n",
       "      <td>vilnius</td>\n",
       "    </tr>\n",
       "    <tr>\n",
       "      <th>485</th>\n",
       "      <td>1</td>\n",
       "      <td>swedish</td>\n",
       "      <td>vilnius</td>\n",
       "    </tr>\n",
       "  </tbody>\n",
       "</table>\n",
       "<p>486 rows × 3 columns</p>\n",
       "</div>"
      ],
      "text/plain": [
       "     mobile  language        city\n",
       "0         0  austrian   amsterdam\n",
       "1         1  austrian   amsterdam\n",
       "2         0  austrian  copenhagen\n",
       "3         1  austrian  copenhagen\n",
       "4         0  austrian      madrid\n",
       "..      ...       ...         ...\n",
       "481       1   swedish    valletta\n",
       "482       0   swedish      vienna\n",
       "483       1   swedish      vienna\n",
       "484       0   swedish     vilnius\n",
       "485       1   swedish     vilnius\n",
       "\n",
       "[486 rows x 3 columns]"
      ]
     },
     "execution_count": 7,
     "metadata": {},
     "output_type": "execute_result"
    }
   ],
   "source": [
    "df"
   ]
  },
  {
   "cell_type": "code",
   "execution_count": 6,
   "id": "a4444a88",
   "metadata": {},
   "outputs": [
    {
     "data": {
      "text/plain": [
       "'all_our_requests=pandas.DataFrame(columns=[\"avatar_id\", \"mobile\", \"language\", \"city\", \"date\", \"id_request\"])\\nall_our_requests.to_csv(\\'all_our_requests_done.csv\\', index=False) '"
      ]
     },
     "execution_count": 6,
     "metadata": {},
     "output_type": "execute_result"
    }
   ],
   "source": [
    "### attention si recompilation : le fichier existant sera écrasé !! \n",
    "\"\"\"all_our_requests=pandas.DataFrame(columns=[\"avatar_id\", \"mobile\", \"language\", \"city\", \"date\", \"id_request\"])\n",
    "all_our_requests.to_csv('all_our_requests_done.csv', index=False) \"\"\""
   ]
  },
  {
   "cell_type": "markdown",
   "id": "b47cb05b",
   "metadata": {},
   "source": [
    "### Création du fichier des résultats des requêtes effectuées\n",
    "- stockage de la liste des requêtes dans un fichier pricing_requests_done.csv"
   ]
  },
  {
   "cell_type": "code",
   "execution_count": 7,
   "id": "2a93b1db",
   "metadata": {},
   "outputs": [
    {
     "data": {
      "text/plain": [
       "\"pricing_requests.to_csv('pricing_requests_done.csv', index=False)\""
      ]
     },
     "execution_count": 7,
     "metadata": {},
     "output_type": "execute_result"
    }
   ],
   "source": [
    "#création du fichier des résultats des requêtes\n",
    "### attention si recompilation : le fichier existant sera écrasé !! \n",
    "\"\"\"pricing_requests=pandas.DataFrame(columns=[\"hotel_id\", \"price\", \"stock\", \"city\", \"date\", \"language\", \"mobile\", \"avatar_id\", \"request_number\"])\"\"\"\n",
    "\"\"\"pricing_requests.to_csv('pricing_requests_done.csv', index=False)\"\"\""
   ]
  },
  {
   "cell_type": "code",
   "execution_count": 19,
   "id": "fbb5a2df",
   "metadata": {},
   "outputs": [
    {
     "data": {
      "text/plain": [
       "array([14, 15])"
      ]
     },
     "execution_count": 19,
     "metadata": {},
     "output_type": "execute_result"
    }
   ],
   "source": []
  },
  {
   "cell_type": "markdown",
   "id": "051bb520",
   "metadata": {},
   "source": [
    "### Bloc de requête à l'api et stockage des données avec les précédentes"
   ]
  },
  {
   "cell_type": "markdown",
   "id": "60afaea5",
   "metadata": {},
   "source": [
    "<font color = \"blue\"> **Questions (Lila):** \n",
    "- <font color = \"blue\"> Dans la commande `chosen_idx = np.random.choice(idx_available, replace = False, size = nb_request)`, on tire aléatoirement sans remise len(df) = 468 éléments parmi une liste de taille 468: [0,1,...,467] ce qui revient exactement à choisir la liste [0,1,...,467] directement (sans avoir besoin du random.choice). Est-ce voulu ?\n",
    "\n",
    "- <font color = \"blue\"> `our_requests = pandas.read_csv('all_our_requests_done.csv', header = 0)` au début, ce tableau est vide non ? Pour la première utilisation, il s'agit de `allrequest.csv` ? J'imagine qu'à l'origine il devait y avoir marqué `allrequest.csv` et non pas `all_our_requests_done.csv`.\n",
    "    \n",
    "- <font color = \"blue\"> On a `days= np.random.choice(selected_days, number_days, replace=False)` et `days= np.random.choice(range(0,45), number_days, replace=False)` à la suite donc seule la 2e version est prise en compte. \n",
    "    \n",
    "- <font color = \"blue\"> On crée un \"avatar_name\" avec la date du jour mais après je n'ai pas l'impression qu'on stocke cette info quelque part. Une fois le tableau constitué, on ne peut pas retrouver cette info. \n",
    "    \n",
    "- <font color = \"blue\"> l'Id de a request est i dans la ligne `add_to_our_requests = ...` mais du coup, si on fait tourner plusieurs fois le même code, on n'aura pas des requêtes avec le même id ? comment on va faire pour les différencier ? Il ne faudrait pas mettre `request_num` à la place de `i` ?"
   ]
  },
  {
   "cell_type": "code",
   "execution_count": 17,
   "id": "1da05669",
   "metadata": {},
   "outputs": [
    {
     "name": "stdout",
     "output_type": "stream",
     "text": [
      "mobile            1\n",
      "language    belgian\n",
      "city        vilnius\n",
      "Name: 35, dtype: object\n"
     ]
    }
   ],
   "source": [
    "print(df.iloc[35,:])"
   ]
  },
  {
   "cell_type": "code",
   "execution_count": 24,
   "id": "5e0b0436",
   "metadata": {},
   "outputs": [
    {
     "name": "stdout",
     "output_type": "stream",
     "text": [
      "244\n",
      "sofia\n",
      "hungarian\n",
      "<Response [429]>\n"
     ]
    },
    {
     "ename": "KeyError",
     "evalue": "'prices'",
     "output_type": "error",
     "traceback": [
      "\u001b[1;31m---------------------------------------------------------------------------\u001b[0m",
      "\u001b[1;31mKeyError\u001b[0m                                  Traceback (most recent call last)",
      "\u001b[1;32m~\\AppData\\Local\\Temp/ipykernel_32204/3514995687.py\u001b[0m in \u001b[0;36m<module>\u001b[1;34m\u001b[0m\n\u001b[0;32m     64\u001b[0m         \u001b[0mprint\u001b[0m\u001b[1;33m(\u001b[0m\u001b[0mr1\u001b[0m\u001b[1;33m)\u001b[0m\u001b[1;33m\u001b[0m\u001b[1;33m\u001b[0m\u001b[0m\n\u001b[0;32m     65\u001b[0m         \u001b[1;31m#mise en forme\u001b[0m\u001b[1;33m\u001b[0m\u001b[1;33m\u001b[0m\u001b[0m\n\u001b[1;32m---> 66\u001b[1;33m         \u001b[0marray_to_add\u001b[0m \u001b[1;33m=\u001b[0m \u001b[0mpd\u001b[0m\u001b[1;33m.\u001b[0m\u001b[0mDataFrame\u001b[0m\u001b[1;33m(\u001b[0m\u001b[0mr1\u001b[0m\u001b[1;33m.\u001b[0m\u001b[0mjson\u001b[0m\u001b[1;33m(\u001b[0m\u001b[1;33m)\u001b[0m\u001b[1;33m[\u001b[0m\u001b[1;34m'prices'\u001b[0m\u001b[1;33m]\u001b[0m\u001b[1;33m)\u001b[0m\u001b[1;33m.\u001b[0m\u001b[0massign\u001b[0m\u001b[1;33m(\u001b[0m\u001b[1;33m**\u001b[0m\u001b[0mr1\u001b[0m\u001b[1;33m.\u001b[0m\u001b[0mjson\u001b[0m\u001b[1;33m(\u001b[0m\u001b[1;33m)\u001b[0m\u001b[1;33m[\u001b[0m\u001b[1;34m'request'\u001b[0m\u001b[1;33m]\u001b[0m\u001b[1;33m)\u001b[0m\u001b[1;33m\u001b[0m\u001b[1;33m\u001b[0m\u001b[0m\n\u001b[0m\u001b[0;32m     67\u001b[0m         \u001b[0marray_to_add\u001b[0m \u001b[1;33m=\u001b[0m \u001b[0marray_to_add\u001b[0m\u001b[1;33m.\u001b[0m\u001b[0massign\u001b[0m\u001b[1;33m(\u001b[0m\u001b[0mrequest_number\u001b[0m\u001b[1;33m=\u001b[0m\u001b[0mrequest_num\u001b[0m\u001b[1;33m)\u001b[0m\u001b[1;33m\u001b[0m\u001b[1;33m\u001b[0m\u001b[0m\n\u001b[0;32m     68\u001b[0m \u001b[1;33m\u001b[0m\u001b[0m\n",
      "\u001b[1;31mKeyError\u001b[0m: 'prices'"
     ]
    }
   ],
   "source": [
    "#variables \n",
    "number_days = 1 # nombre de jour pour lesquels un utilisateur va faire la même requête\n",
    "\n",
    "#choix du ou des indexes dans la table des requêtes :\n",
    "idx_available = range(0,len(df)) # len(df) = 486\n",
    "#nombre de requête\n",
    "nb_request = len(df) # = 468\n",
    "#tirage sans remise de \"nb_request\" élements dans la liste \"idx_available = [0,1,...,len(df)]\"\n",
    "chosen_idx = np.random.choice(idx_available, replace = False, size = nb_request)\n",
    "\n",
    "#chargement de toutes les requêtes possibles et de nos données existantes\n",
    "our_requests = pandas.read_csv('all_our_requests_done.csv', header = 0)\n",
    "pricing_requests = pandas.read_csv('pricing_requests_done.csv', header = 0)\n",
    "\n",
    "#variable qui sert à numéroter nos requêtes (utile si plusieurs requêtes sont faites plusieurs fois)\n",
    "request_num = our_requests.shape[0]\n",
    "\n",
    "for i in chosen_idx: #le chosen index correspond à une requête dans our_requests #### ou plutôt allrequest.csv ?\n",
    "    print(i)\n",
    "    date = datetime.today().strftime('%Y-%m-%d_%H:%M:%S')\n",
    "    \n",
    "    selected_daysA = [0,1,2,3,4,5,6,7]\n",
    "    selected_daysB = [13,14,15,16,17,18,19,20,21,22]\n",
    "    selected_daysC = [32,33,34,35,36,37,38,39]\n",
    "    b=[34]\n",
    "    #tirage sans remise de \"number_days\" éléments dans la liste \"selected_days\"\n",
    "    #days = np.random.choice(b, number_days, replace=False)\n",
    "    \n",
    "\n",
    "    #days= np.random.choice(selected_daysC, number_days, replace=False) \n",
    "    days= np.random.choice(range(0,45), number_days, replace=False)\n",
    "    j=0\n",
    "    \n",
    "     \n",
    "    #cas 1 avatar fait la même requête sur number_days différents jours\n",
    "    #création avatar\n",
    "    time.sleep(1) #pour ne pas avoir 2 avatar de noms identiques\n",
    "    name = date + '_avatar'     \n",
    "    #à créer l'avatar \n",
    "    a = requests.post(path(f'avatars/{user_id}/{name}'))\n",
    "    \n",
    "    for iter_days in (sorted(days, reverse=True)):\n",
    "        \n",
    "        #paramètres requête de our_requests #### de df=allrequest plutôt ? \n",
    "        city=str(df.iloc[i,:][\"city\"])\n",
    "        mobile=df.iloc[i,:][\"mobile\"]\n",
    "        language=str(df.iloc[i,:][\"language\"])\n",
    "        \n",
    "        #paramètres requetes\n",
    "        params = {\n",
    "            \"avatar_name\": name,\n",
    "            \"language\": language,\n",
    "            \"city\": city,\n",
    "            \"date\": iter_days,\n",
    "            \"mobile\": mobile,\n",
    "        }\n",
    "        \n",
    "        print(city)\n",
    "        print(language)\n",
    "        \n",
    "        request_num +=1\n",
    "        #requête à l'api\n",
    "        r1 = requests.get(path(f\"pricing/{user_id}\"), params=params)\n",
    "        print(r1)\n",
    "        #mise en forme \n",
    "        array_to_add = pd.DataFrame(r1.json()['prices']).assign(**r1.json()['request'])\n",
    "        array_to_add = array_to_add.assign(request_number=request_num)\n",
    "       \n",
    "        \n",
    "        pricing_requests = pd.concat([pricing_requests, array_to_add])\n",
    "        \n",
    "        add_to_our_requests = pandas.DataFrame([[r1.json()['request']['avatar_id'], mobile, language, city, iter_days,  i]], \n",
    "                                       columns=[\"avatar_id\", \"mobile\", \"language\", \"city\", \"date\", \"id_request\"])\n",
    "        our_requests = pandas.concat([our_requests, add_to_our_requests], ignore_index=True)\n",
    "        \n",
    "#enregistrement\n",
    "pricing_requests.to_csv('pricing_requests_done.csv', index=False)\n",
    "our_requests.to_csv('all_our_requests_done.csv', index=False)"
   ]
  },
  {
   "cell_type": "code",
   "execution_count": 19,
   "id": "43416f33",
   "metadata": {},
   "outputs": [],
   "source": [
    "'''#pour quand on s'est raté et que l'enregistrement rate\n",
    "pricing_requests.to_csv('pricing_requests_done.csv', index=False)\n",
    "our_requests.to_csv('all_our_requests_done.csv', index=False)'''"
   ]
  },
  {
   "cell_type": "code",
   "execution_count": null,
   "id": "2cc5be18",
   "metadata": {},
   "outputs": [],
   "source": []
  },
  {
   "cell_type": "markdown",
   "id": "bfa428ee",
   "metadata": {},
   "source": [
    "## Stockage des paires noms_utilisateur, identifiants (à mettre à jour souvent en exécutant cette cellule)\n",
    "Il suffira d'aller dans cette table pour à partir de l'identifiant id retrouver le nom de l'utilisateur"
   ]
  },
  {
   "cell_type": "code",
   "execution_count": 10,
   "id": "cc7e0f04",
   "metadata": {},
   "outputs": [
    {
     "data": {
      "text/plain": [
       "'r = requests.get(path(f\"avatars/{user_id}\"))\\ntab=[]\\nfor avatar in r.json():\\n    tab.append([avatar[\\'id\\'], avatar[\\'name\\']])\\n\\ndf = pd.DataFrame(tab)\\ndf.columns = [\\'avatar_Id\\', \\'avatar_Name\\']\\ndf.to_csv(\\'tab_id_name_of_users.csv\\', index=False)'"
      ]
     },
     "execution_count": 10,
     "metadata": {},
     "output_type": "execute_result"
    }
   ],
   "source": [
    "'''r = requests.get(path(f\"avatars/{user_id}\"))\n",
    "tab=[]\n",
    "for avatar in r.json():\n",
    "    tab.append([avatar['id'], avatar['name']])\n",
    "\n",
    "df = pd.DataFrame(tab)\n",
    "df.columns = ['avatar_Id', 'avatar_Name']\n",
    "df.to_csv('tab_id_name_of_users.csv', index=False)'''"
   ]
  }
 ],
 "metadata": {
  "kernelspec": {
   "display_name": "Python 3 (ipykernel)",
   "language": "python",
   "name": "python3"
  },
  "language_info": {
   "codemirror_mode": {
    "name": "ipython",
    "version": 3
   },
   "file_extension": ".py",
   "mimetype": "text/x-python",
   "name": "python",
   "nbconvert_exporter": "python",
   "pygments_lexer": "ipython3",
   "version": "3.9.7"
  },
  "toc": {
   "base_numbering": 1,
   "nav_menu": {},
   "number_sections": true,
   "sideBar": true,
   "skip_h1_title": false,
   "title_cell": "Table of Contents",
   "title_sidebar": "Contents",
   "toc_cell": false,
   "toc_position": {},
   "toc_section_display": true,
   "toc_window_display": false
  }
 },
 "nbformat": 4,
 "nbformat_minor": 5
}
