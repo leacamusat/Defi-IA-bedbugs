{
 "cells": [
  {
   "cell_type": "markdown",
   "id": "ff88b5e7",
   "metadata": {},
   "source": [
    "# Défi IA 2023 \n",
    "## Bedbugs - INSA 5 MA\n",
    "## Lila, Léa & Flavie\n",
    "\n",
    "# Code de requêtes\n"
   ]
  },
  {
   "cell_type": "code",
   "execution_count": 14,
   "id": "5b93eac6",
   "metadata": {},
   "outputs": [],
   "source": [
    "# librairies\n",
    "# --------------------------------------------\n",
    "from datetime import datetime\n",
    "import pandas\n",
    "import numpy as np\n",
    "import json\n",
    "import csv\n",
    "import time\n",
    "import requests\n",
    "import pandas as pd \n",
    "import urllib.parse"
   ]
  },
  {
   "cell_type": "code",
   "execution_count": 15,
   "id": "be2ccfc7",
   "metadata": {},
   "outputs": [],
   "source": [
    "# connexions à l'api\n",
    "# --------------------------------------------\n",
    "domain = \"51.91.251.0\"\n",
    "port = 3000\n",
    "host = f\"http://{domain}:{port}\"\n",
    "path = lambda x: urllib.parse.urljoin(host, x)\n",
    "\n",
    "user_id = 'f80b400f-3d29-43f0-8049-214a756ff0b3' # notre user ID reçu par mail"
   ]
  },
  {
   "cell_type": "markdown",
   "id": "ce1f6d8d",
   "metadata": {},
   "source": [
    "### Création d'un dataset des requêtes possibles (hors variation des jours (date))\n",
    "- Stockage dans un fichier csv : allrequest.csv"
   ]
  },
  {
   "cell_type": "code",
   "execution_count": 16,
   "id": "9cb30faa",
   "metadata": {},
   "outputs": [
    {
     "data": {
      "text/plain": [
       "'lst1=[0,1]   \\nlst2=[\\'austrian\\', \\'bulgarian\\', \\'croatian\\', \\'cypriot\\', \\'czech\\', \\'danish\\', \\'dutch\\', \\'estonian\\', \\'finnish\\', \\'french\\', \\'german\\', \\'greek\\', \\'hungarian\\', \\'irish\\', \\'italian\\', \\'latvian\\', \\'lithuanian\\', \\'luxembourgish\\', \\'maltese\\', \\'polish\\', \\'portuguese\\', \\'romanian\\', \\'slovakian\\', \\'slovene\\', \\'spanish\\',\\'swedish\\']\\nlst3=[\\'amsterdam\\', \\'copenhagen\\', \\'madrid\\',\\'paris\\', \\'rome\\', \\'sofia\\', \\'valletta\\', \\'vienna\\', \\'vilnius\\']\\nprint(len(lst2))\\nlst = [[[j,k,l] for j in lst1] for k in lst2 for l in lst3]\\n\\nA=np.array(lst)\\nA=np.reshape(A, (-1,3))\\nall_requests=pandas.DataFrame(A, columns=[\"mobile\", \"language\", \"city\"])\\nall_requests\\nall_requests.to_csv(\\'allrequest.csv\\', index=False)\\n'"
      ]
     },
     "execution_count": 16,
     "metadata": {},
     "output_type": "execute_result"
    }
   ],
   "source": [
    "\"\"\"lst1=[0,1]   \n",
    "lst2=['austrian', 'bulgarian', 'croatian', 'cypriot', 'czech', 'danish', 'dutch', 'estonian', 'finnish', 'french', 'german', 'greek', 'hungarian', 'irish', 'italian', 'latvian', 'lithuanian', 'luxembourgish', 'maltese', 'polish', 'portuguese', 'romanian', 'slovakian', 'slovene', 'spanish','swedish']\n",
    "lst3=['amsterdam', 'copenhagen', 'madrid','paris', 'rome', 'sofia', 'valletta', 'vienna', 'vilnius']\n",
    "print(len(lst2))\n",
    "lst = [[[j,k,l] for j in lst1] for k in lst2 for l in lst3]\n",
    "\n",
    "A=np.array(lst)\n",
    "A=np.reshape(A, (-1,3))\n",
    "all_requests=pandas.DataFrame(A, columns=[\"mobile\", \"language\", \"city\"])\n",
    "all_requests\n",
    "all_requests.to_csv('allrequest.csv', index=False)\n",
    "\"\"\""
   ]
  },
  {
   "cell_type": "code",
   "execution_count": 17,
   "id": "72e04ab5",
   "metadata": {},
   "outputs": [
    {
     "data": {
      "text/html": [
       "<div>\n",
       "<style scoped>\n",
       "    .dataframe tbody tr th:only-of-type {\n",
       "        vertical-align: middle;\n",
       "    }\n",
       "\n",
       "    .dataframe tbody tr th {\n",
       "        vertical-align: top;\n",
       "    }\n",
       "\n",
       "    .dataframe thead th {\n",
       "        text-align: right;\n",
       "    }\n",
       "</style>\n",
       "<table border=\"1\" class=\"dataframe\">\n",
       "  <thead>\n",
       "    <tr style=\"text-align: right;\">\n",
       "      <th></th>\n",
       "      <th>mobile</th>\n",
       "      <th>language</th>\n",
       "      <th>city</th>\n",
       "    </tr>\n",
       "  </thead>\n",
       "  <tbody>\n",
       "    <tr>\n",
       "      <th>0</th>\n",
       "      <td>0</td>\n",
       "      <td>austrian</td>\n",
       "      <td>amsterdam</td>\n",
       "    </tr>\n",
       "    <tr>\n",
       "      <th>1</th>\n",
       "      <td>1</td>\n",
       "      <td>austrian</td>\n",
       "      <td>amsterdam</td>\n",
       "    </tr>\n",
       "    <tr>\n",
       "      <th>2</th>\n",
       "      <td>0</td>\n",
       "      <td>austrian</td>\n",
       "      <td>copenhagen</td>\n",
       "    </tr>\n",
       "    <tr>\n",
       "      <th>3</th>\n",
       "      <td>1</td>\n",
       "      <td>austrian</td>\n",
       "      <td>copenhagen</td>\n",
       "    </tr>\n",
       "    <tr>\n",
       "      <th>4</th>\n",
       "      <td>0</td>\n",
       "      <td>austrian</td>\n",
       "      <td>madrid</td>\n",
       "    </tr>\n",
       "    <tr>\n",
       "      <th>...</th>\n",
       "      <td>...</td>\n",
       "      <td>...</td>\n",
       "      <td>...</td>\n",
       "    </tr>\n",
       "    <tr>\n",
       "      <th>463</th>\n",
       "      <td>1</td>\n",
       "      <td>swedish</td>\n",
       "      <td>valletta</td>\n",
       "    </tr>\n",
       "    <tr>\n",
       "      <th>464</th>\n",
       "      <td>0</td>\n",
       "      <td>swedish</td>\n",
       "      <td>vienna</td>\n",
       "    </tr>\n",
       "    <tr>\n",
       "      <th>465</th>\n",
       "      <td>1</td>\n",
       "      <td>swedish</td>\n",
       "      <td>vienna</td>\n",
       "    </tr>\n",
       "    <tr>\n",
       "      <th>466</th>\n",
       "      <td>0</td>\n",
       "      <td>swedish</td>\n",
       "      <td>vilnius</td>\n",
       "    </tr>\n",
       "    <tr>\n",
       "      <th>467</th>\n",
       "      <td>1</td>\n",
       "      <td>swedish</td>\n",
       "      <td>vilnius</td>\n",
       "    </tr>\n",
       "  </tbody>\n",
       "</table>\n",
       "<p>468 rows × 3 columns</p>\n",
       "</div>"
      ],
      "text/plain": [
       "     mobile  language        city\n",
       "0         0  austrian   amsterdam\n",
       "1         1  austrian   amsterdam\n",
       "2         0  austrian  copenhagen\n",
       "3         1  austrian  copenhagen\n",
       "4         0  austrian      madrid\n",
       "..      ...       ...         ...\n",
       "463       1   swedish    valletta\n",
       "464       0   swedish      vienna\n",
       "465       1   swedish      vienna\n",
       "466       0   swedish     vilnius\n",
       "467       1   swedish     vilnius\n",
       "\n",
       "[468 rows x 3 columns]"
      ]
     },
     "execution_count": 17,
     "metadata": {},
     "output_type": "execute_result"
    }
   ],
   "source": [
    "#à faire lors de la première utilisation \n",
    "#1) lecture du csv \n",
    "df = pandas.read_csv('allrequest.csv', header = 0)\n",
    "df"
   ]
  },
  {
   "cell_type": "markdown",
   "id": "6a0020c3",
   "metadata": {},
   "source": [
    "### Création du fichier de nos requêtes effectuées (pas leur résultats)\n",
    "- stockage de la liste des requêtes dans un fichier all_our_requests_done.csv"
   ]
  },
  {
   "cell_type": "code",
   "execution_count": 18,
   "id": "a4444a88",
   "metadata": {},
   "outputs": [
    {
     "data": {
      "text/plain": [
       "'all_our_requests=pandas.DataFrame(columns=[\"avatar_id\", \"mobile\", \"language\", \"city\", \"date\", \"id_request\"])\\nall_our_requests.to_csv(\\'all_our_requests_done.csv\\', index=False) '"
      ]
     },
     "execution_count": 18,
     "metadata": {},
     "output_type": "execute_result"
    }
   ],
   "source": [
    "### attention si recompilation : le fichier existant sera écrasé !! \n",
    "\"\"\"all_our_requests=pandas.DataFrame(columns=[\"avatar_id\", \"mobile\", \"language\", \"city\", \"date\", \"id_request\"])\n",
    "all_our_requests.to_csv('all_our_requests_done.csv', index=False) \"\"\""
   ]
  },
  {
   "cell_type": "markdown",
   "id": "b47cb05b",
   "metadata": {},
   "source": [
    "### Création du fichier des résultats des requêtes effectuées\n",
    "- stockage de la liste des requêtes dans un fichier pricing_requests_done.csv"
   ]
  },
  {
   "cell_type": "code",
   "execution_count": 19,
   "id": "2a93b1db",
   "metadata": {},
   "outputs": [
    {
     "data": {
      "text/plain": [
       "\"pricing_requests.to_csv('pricing_requests_done.csv', index=False)\""
      ]
     },
     "execution_count": 19,
     "metadata": {},
     "output_type": "execute_result"
    }
   ],
   "source": [
    "#création du fichier des résultats des requêtes\n",
    "### attention si recompilation : le fichier existant sera écrasé !! \n",
    "\"\"\"pricing_requests=pandas.DataFrame(columns=[\"hotel_id\", \"price\", \"stock\", \"city\", \"date\", \"language\", \"mobile\", \"avatar_id\", \"request_number\"])\"\"\"\n",
    "\"\"\"pricing_requests.to_csv('pricing_requests_done.csv', index=False)\"\"\""
   ]
  },
  {
   "cell_type": "markdown",
   "id": "051bb520",
   "metadata": {},
   "source": [
    "### Bloc de requête à l'api et stockage des données avec les précédentes"
   ]
  },
  {
   "cell_type": "code",
   "execution_count": 26,
   "id": "5e0b0436",
   "metadata": {},
   "outputs": [
    {
     "name": "stdout",
     "output_type": "stream",
     "text": [
      "27\n",
      "rome\n",
      "bulgarian\n",
      "90\n",
      "amsterdam\n",
      "danish\n"
     ]
    }
   ],
   "source": [
    "#variables \n",
    "number_days = 1 # nombre de jour pour lesquels un utilisateur va faire la même requête\n",
    "\n",
    "#choix du ou des indexes dans la tables des requêtes :\n",
    "idx_available = [80,15,27,356,90,100]\n",
    "#nombre de requête\n",
    "nb_request = 2\n",
    "chosen_idx = np.random.choice(idx_available, replace = False, size = nb_request)\n",
    "\n",
    "#chargement de toutes les requêtes possibles et de nos données existantes\n",
    "our_requests = pandas.read_csv('all_our_requests_done.csv', header = 0)\n",
    "pricing_requests = pandas.read_csv('pricing_requests_done.csv', header = 0)\n",
    "\n",
    "#variable qui sert à numéroter nos requêtes (utile si plusieurs requêtes sont faites plusieurs fois)\n",
    "request_num =our_requests.shape[0]\n",
    "\n",
    "for i in chosen_idx: #le chosen index correspond à une reqête dans our_requests\n",
    "    print(i)\n",
    "    date = datetime.today().strftime('%Y-%m-%d_%H:%M:%S')\n",
    "    days= np.random.choice(range(0, 45), number_days, replace=False)\n",
    "    j=0\n",
    "    \n",
    "     \n",
    "    #cas 1 avatar fait la même requête sur number_days différents jours\n",
    "    #création avatar\n",
    "    time.sleep(1) #pour ne pas avoir 2 avatar de noms identiques\n",
    "    name = date + '_avatar'     \n",
    "    #à créer l'avatar \n",
    "    a = requests.post(path(f'avatars/{user_id}/{name}'))\n",
    "    \n",
    "    for iter_days in (sorted(days, reverse=True)):\n",
    "        \n",
    "        #paramètres requête de our_requests\n",
    "        city=str(df.iloc[i,:][\"city\"])\n",
    "        mobile=df.iloc[i,:][\"mobile\"]\n",
    "        language=str(df.iloc[i,:][\"language\"])\n",
    "        \n",
    "        #paramètres requetes\n",
    "        params = {\n",
    "            \"avatar_name\": name,\n",
    "            \"language\": language,\n",
    "            \"city\": city,\n",
    "            \"date\": iter_days,\n",
    "            \"mobile\": mobile,\n",
    "        }\n",
    "        \n",
    "        print(city)\n",
    "        print(language)\n",
    "        \n",
    "        request_num +=1\n",
    "        #requête à l'api\n",
    "        r1 = requests.get(path(f\"pricing/{user_id}\"), params=params)\n",
    "        #mise en forme \n",
    "        array_to_add = pd.DataFrame(r1.json()['prices']).assign(**r1.json()['request'])\n",
    "        array_to_add = array_to_add.assign(request_number=request_num)\n",
    "       \n",
    "        \n",
    "        pricing_requests = pd.concat([pricing_requests, array_to_add])\n",
    "        \n",
    "        add_to_our_requests = pandas.DataFrame([[r1.json()['request']['avatar_id'], mobile, language, city, iter_days,  i]], \n",
    "                                       columns=[\"avatar_id\", \"mobile\", \"language\", \"city\", \"date\", \"id_request\"])\n",
    "        our_requests = pandas.concat([our_requests, add_to_our_requests], ignore_index=True)\n",
    "        \n",
    "#enregistrement\n",
    "pricing_requests.to_csv('pricing_requests_done.csv', index=False)\n",
    "our_requests.to_csv('all_our_requests_done.csv', index=False)"
   ]
  },
  {
   "cell_type": "code",
   "execution_count": 25,
   "id": "43416f33",
   "metadata": {},
   "outputs": [],
   "source": [
    "#pour quand on s'est raté et que l'enregistrement rate\n",
    "pricing_requests.to_csv('pricing_requests_done.csv', index=False)\n",
    "our_requests.to_csv('all_our_requests_done.csv', index=False)"
   ]
  },
  {
   "cell_type": "code",
   "execution_count": null,
   "id": "2cc5be18",
   "metadata": {},
   "outputs": [],
   "source": []
  }
 ],
 "metadata": {
  "kernelspec": {
   "display_name": "Python 3 (ipykernel)",
   "language": "python",
   "name": "python3"
  },
  "language_info": {
   "codemirror_mode": {
    "name": "ipython",
    "version": 3
   },
   "file_extension": ".py",
   "mimetype": "text/x-python",
   "name": "python",
   "nbconvert_exporter": "python",
   "pygments_lexer": "ipython3",
   "version": "3.9.7"
  }
 },
 "nbformat": 4,
 "nbformat_minor": 5
}
