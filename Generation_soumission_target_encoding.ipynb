{
 "cells": [
  {
   "cell_type": "markdown",
   "id": "2dc2f597",
   "metadata": {},
   "source": [
    "# Fichier pour générer les soumissions et prédictions\n",
    "\n",
    "### Se sert des fichiers .sav du model et de scaler"
   ]
  },
  {
   "cell_type": "code",
   "execution_count": 1,
   "id": "0d5524ce",
   "metadata": {},
   "outputs": [],
   "source": [
    "# librairies \n",
    "#----------------------------------------------\n",
    "#----- Calculs \n",
    "import pandas as pd\n",
    "import numpy as np\n",
    "from numpy import mean, std\n",
    "from math import sqrt, log\n",
    "#save model \n",
    "import pickle "
   ]
  },
  {
   "cell_type": "markdown",
   "id": "2d948728",
   "metadata": {},
   "source": [
    "### Récupération du test set d'évaluation Kaggle"
   ]
  },
  {
   "cell_type": "code",
   "execution_count": 4,
   "id": "0afc28ea",
   "metadata": {},
   "outputs": [],
   "source": [
    "# Lecture du fichier des données tests\n",
    "#----------------------------------------------\n",
    "PATH = '.' #modifier si besoin le chemin du fichier\n",
    "\n",
    "# récupération du fichier contentant l'ensemble des données issues des requêtes\n",
    "# concaténé avec les hotêls et nouvelles data\n",
    "eval_set_kaggle_detailed = pd.read_csv(PATH + '//test_set_cleaned_addedFeatures.csv')\n",
    "\n",
    "eval_set_kaggle = pd.read_csv(PATH + '//test_set.csv')\n",
    "idx = eval_set_kaggle [\"index\"]"
   ]
  },
  {
   "cell_type": "code",
   "execution_count": 5,
   "id": "7d9d95d3",
   "metadata": {},
   "outputs": [
    {
     "data": {
      "text/plain": [
       "'# Assigner le bon type aux variables\\n#----------------------------------------------\\n#--- Convert to integer: \\nint_list = [\"date\",\"avatar_id\",\"hotel_id\",\"stock\",\"request_number\"] \\neval_set_kaggle_detailed[int_list] = eval_set_kaggle_detailed[int_list].astype(int) \\n#--- Convert to categorical: \\neval_set_kaggle_detailed[\"city\"] = pd.Categorical(eval_set_kaggle_detailed[\"city\"],ordered=False)\\neval_set_kaggle_detailed[\"language\"] = pd.Categorical(eval_set_kaggle_detailed[\"language\"],ordered=False)\\neval_set_kaggle_detailed[\"mobile\"] = pd.Categorical(eval_set_kaggle_detailed[\"mobile\"],ordered=False)\\neval_set_kaggle_detailed[\"parking\"] = pd.Categorical(eval_set_kaggle_detailed[\"parking\"],ordered=False)\\neval_set_kaggle_detailed[\"pool\"] = pd.Categorical(eval_set_kaggle_detailed[\"pool\"],ordered=False)\\neval_set_kaggle_detailed[\"children_policy\"] = pd.Categorical(eval_set_kaggle_detailed[\"children_policy\"],ordered=False)\\neval_set_kaggle_detailed[\"group\"] = pd.Categorical(eval_set_kaggle_detailed[\"group\"],ordered=False)\\neval_set_kaggle_detailed[\"brand\"] = pd.Categorical(eval_set_kaggle_detailed[\"brand\"],ordered=False)\\neval_set_kaggle_detailed[\"request_number\"] = pd.Categorical(eval_set_kaggle_detailed[\"request_number\"],ordered=False)\\neval_set_kaggle_detailed[\"hotel_id\"] = pd.Categorical(eval_set_kaggle_detailed[\"hotel_id\"],ordered=False)'"
      ]
     },
     "execution_count": 5,
     "metadata": {},
     "output_type": "execute_result"
    }
   ],
   "source": [
    "# Assigner le bon type aux variables\n",
    "#----------------------------------------------\n",
    "#--- Convert to integer: \n",
    "int_list = [\"date\",\"avatar_id\",\"hotel_id\",\"stock\",\"request_number\",\"request_nb\", \"pib\", \"price_m2\", \"nb_tourists\", \"nb_hab_km2\"] \n",
    "eval_set_kaggle_detailed[int_list] = eval_set_kaggle_detailed[int_list].astype(int) \n",
    "#--- Convert to categorical: \n",
    "eval_set_kaggle_detailed[\"city\"] = pd.Categorical(eval_set_kaggle_detailed[\"city\"],ordered=False)\n",
    "eval_set_kaggle_detailed[\"language\"] = pd.Categorical(eval_set_kaggle_detailed[\"language\"],ordered=False)\n",
    "eval_set_kaggle_detailed[\"mobile\"] = pd.Categorical(eval_set_kaggle_detailed[\"mobile\"],ordered=False)\n",
    "eval_set_kaggle_detailed[\"parking\"] = pd.Categorical(eval_set_kaggle_detailed[\"parking\"],ordered=False)\n",
    "eval_set_kaggle_detailed[\"pool\"] = pd.Categorical(eval_set_kaggle_detailed[\"pool\"],ordered=False)\n",
    "eval_set_kaggle_detailed[\"children_policy\"] = pd.Categorical(eval_set_kaggle_detailed[\"children_policy\"],ordered=False)\n",
    "eval_set_kaggle_detailed[\"group\"] = pd.Categorical(eval_set_kaggle_detailed[\"group\"],ordered=False)\n",
    "eval_set_kaggle_detailed[\"brand\"] = pd.Categorical(eval_set_kaggle_detailed[\"brand\"],ordered=False)"
   ]
  },
  {
   "cell_type": "code",
   "execution_count": null,
   "id": "1b29bfcb",
   "metadata": {},
   "outputs": [],
   "source": [
    "encoder_toutes_les_variables_pareil=False\n",
    "if not encoder_toutes_les_variables_pareil:\n",
    "####################target encoding ############################# manuellement (à voir si on veut faire la médiane un jour )\n",
    "#1) recréer le tableau total avec les prix (temp=X_train concat avec Y_train)\n",
    "    # Compute target mean : #groupby : permet de calculer la moyenne de prix par hotel id \n",
    "    #mean_price_by_hotel_id = temp.groupby(\"hotel_id\")[\"price\"].mean() #dictionnaire\n",
    "    frequency_by_hotel_pool = pickle.load(open( \"./dictionnary/pool\", 'rb')) #on peut ensuite le recharger \n",
    "    frequency_by_hotel_child = pickle.load(open( \"./dictionnary/child\", 'rb')) #dictionnaire\n",
    "    frequency_by_hotel_parking = pickle.load(open( \"./dictionnary/parking\", 'rb')) #dictionnaire\n",
    "    frequency_by_hotel_mobile = pickle.load(open( \"./dictionnary/mobile\", 'rb'))  #dictionnaire\n",
    "\n",
    "    #groupby : permet de calculer la variance de prix par hotel id \n",
    "    #std_price_by_hotel_id = temp.groupby(\"hotel_id\")[\"price\"].std()\n",
    "    #groupby : permet de calculer la médiane de prix par hotel id \n",
    "    #median_price_by_hotel_id = temp.groupby(\"hotel_id\")[\"price\"].median()\n",
    "\n",
    "    #appliquer ces nouvelles transformations à notre modèle\n",
    "    #X_train[\"std_price_by_hotel_id\"]=X_train['hotel_id'].map(std_price_by_hotel_id)\n",
    "    #X_train['mean_price_by_hotel_id'] = X_train['hotel_id'].map(mean_price_by_hotel_id)\n",
    "    total_reindex['pool'] = total_reindex['pool'].apply(lambda x : frequency_by_hotel_pool[x])\n",
    "    total_reindex['children_policy'] = total_reindex['children_policy'].apply(lambda x : frequency_by_hotel_child[x])\n",
    "    total_reindex['mobile'] = total_reindex['mobile'].apply(lambda x : frequency_by_hotel_mobile[x])\n",
    "    total_reindex['parking'] = total_reindex['parking'].apply(lambda x : frequency_by_hotel_parking[x])\n",
    "\n",
    "    #X_test['std_price_by_hotel_id']= X_test['hotel_id'].map(std_price_by_hotel_id)\n",
    "    #X_test['mean_price_by_hotel_id'] = X_test['hotel_id'].map(mean_price_by_hotel_id)\n",
    "    print(\"encodage fréquentiel de mobile, children_policy, parking et pool faits\")\n",
    "    \n",
    "    #--- Convert to categorical: \n",
    "    float_list = [\"parking\", \"pool\", \"mobile\", \"children_policy\"] \n",
    "    total_reindex[float_list] = total_reindex[float_list].astype(float) \n",
    "    print(total_reindex)\n",
    "    target_encoding=pickle.load(open( \"./dictionnary/target_encoding\", 'rb')) \n",
    "    total_reindex_encoding = target_encoding.transform(total_reindex)\n"
   ]
  },
  {
   "cell_type": "markdown",
   "id": "3e01d462",
   "metadata": {},
   "source": [
    "### Tranformation de la variable quantitative 'stock' comme pour l'apprentissage"
   ]
  },
  {
   "cell_type": "code",
   "execution_count": 6,
   "id": "750c6d3c",
   "metadata": {},
   "outputs": [],
   "source": [
    "eval_set_kaggle_detailed[\"stock\"]=eval_set_kaggle_detailed[\"stock\"].map(lambda x: log(x+1))"
   ]
  },
  {
   "cell_type": "code",
   "execution_count": 7,
   "id": "2b2170e5",
   "metadata": {},
   "outputs": [
    {
     "data": {
      "text/plain": [
       "Index(['city', 'language', 'brand', 'group', 'mobile', 'parking', 'pool',\n",
       "       'children_policy', 'hotel_id', 'request_number', 'stock', 'date'],\n",
       "      dtype='object')"
      ]
     },
     "execution_count": 7,
     "metadata": {},
     "output_type": "execute_result"
    }
   ],
   "source": [
    "# Variables explicatives\n",
    "#-----------------------------------------------\n",
    "# Liste des variables categorical: \n",
    "cat_list1 = [\"city\", \"language\", \"brand\",\"mobile\",\"parking\",\"pool\",\"children_policy\"] #avec brand\n",
    "cat_list2 = [\"city\", \"language\", \"group\",\"mobile\",\"parking\",\"pool\",\"children_policy\"] #avec group\n",
    "cat_list3 = [\"city\", \"language\", \"brand\", \"group\",\"mobile\",\"parking\",\"pool\",\"children_policy\", \"hotel_id\",\"request_number\"] #avec brand & group\n",
    "\n",
    "# Liste des variables quantitatives: \n",
    "quant_list1 = [\"hotel_id\", \"stock\",\"request_nb\", \"date\", \"pib\", \"price_m2\", \"nb_tourists\", \"nb_hab_km2\"]  #on a enlevé avatar_id et price (=variable à expliquer)\n",
    "\n",
    "# Création de la dataframe train\n",
    "eval_set_kaggle_detailed_pricingDum  = pd.get_dummies(eval_set_kaggle_detailed[cat_list3],drop_first = True)\n",
    "eval_set_kaggle_detailed_pricingQual  = eval_set_kaggle_detailed[cat_list3]\n",
    "eval_set_kaggle_detailed_pricingQuant = eval_set_kaggle_detailed[quant_list1]\n",
    "\n",
    "dfC_eval_set_kaggle = pd.concat([eval_set_kaggle_detailed_pricingQual ,eval_set_kaggle_detailed_pricingQuant],axis=1)\n",
    "dfC_eval_set_kaggle.columns"
   ]
  },
  {
   "cell_type": "code",
   "execution_count": 8,
   "id": "9fb037b6",
   "metadata": {},
   "outputs": [
    {
     "data": {
      "text/html": [
       "<div>\n",
       "<style scoped>\n",
       "    .dataframe tbody tr th:only-of-type {\n",
       "        vertical-align: middle;\n",
       "    }\n",
       "\n",
       "    .dataframe tbody tr th {\n",
       "        vertical-align: top;\n",
       "    }\n",
       "\n",
       "    .dataframe thead th {\n",
       "        text-align: right;\n",
       "    }\n",
       "</style>\n",
       "<table border=\"1\" class=\"dataframe\">\n",
       "  <thead>\n",
       "    <tr style=\"text-align: right;\">\n",
       "      <th></th>\n",
       "      <th>request_number</th>\n",
       "      <th>city</th>\n",
       "      <th>date</th>\n",
       "      <th>language</th>\n",
       "      <th>mobile</th>\n",
       "      <th>avatar_id</th>\n",
       "      <th>hotel_id</th>\n",
       "      <th>stock</th>\n",
       "      <th>group</th>\n",
       "      <th>brand</th>\n",
       "      <th>parking</th>\n",
       "      <th>pool</th>\n",
       "      <th>children_policy</th>\n",
       "    </tr>\n",
       "  </thead>\n",
       "  <tbody>\n",
       "    <tr>\n",
       "      <th>0</th>\n",
       "      <td>1</td>\n",
       "      <td>vilnius</td>\n",
       "      <td>21</td>\n",
       "      <td>romanian</td>\n",
       "      <td>0</td>\n",
       "      <td>1</td>\n",
       "      <td>161</td>\n",
       "      <td>3.850148</td>\n",
       "      <td>Boss Western</td>\n",
       "      <td>J.Halliday Inn</td>\n",
       "      <td>1</td>\n",
       "      <td>0</td>\n",
       "      <td>0</td>\n",
       "    </tr>\n",
       "    <tr>\n",
       "      <th>1</th>\n",
       "      <td>1</td>\n",
       "      <td>vilnius</td>\n",
       "      <td>21</td>\n",
       "      <td>romanian</td>\n",
       "      <td>0</td>\n",
       "      <td>1</td>\n",
       "      <td>187</td>\n",
       "      <td>3.496508</td>\n",
       "      <td>Accar Hotels</td>\n",
       "      <td>Marcure</td>\n",
       "      <td>1</td>\n",
       "      <td>1</td>\n",
       "      <td>0</td>\n",
       "    </tr>\n",
       "    <tr>\n",
       "      <th>2</th>\n",
       "      <td>1</td>\n",
       "      <td>vilnius</td>\n",
       "      <td>21</td>\n",
       "      <td>romanian</td>\n",
       "      <td>0</td>\n",
       "      <td>1</td>\n",
       "      <td>279</td>\n",
       "      <td>2.564949</td>\n",
       "      <td>Independant</td>\n",
       "      <td>Independant</td>\n",
       "      <td>1</td>\n",
       "      <td>0</td>\n",
       "      <td>0</td>\n",
       "    </tr>\n",
       "    <tr>\n",
       "      <th>3</th>\n",
       "      <td>1</td>\n",
       "      <td>vilnius</td>\n",
       "      <td>21</td>\n",
       "      <td>romanian</td>\n",
       "      <td>0</td>\n",
       "      <td>1</td>\n",
       "      <td>395</td>\n",
       "      <td>2.397895</td>\n",
       "      <td>Accar Hotels</td>\n",
       "      <td>Ibas</td>\n",
       "      <td>0</td>\n",
       "      <td>0</td>\n",
       "      <td>0</td>\n",
       "    </tr>\n",
       "    <tr>\n",
       "      <th>4</th>\n",
       "      <td>1</td>\n",
       "      <td>vilnius</td>\n",
       "      <td>21</td>\n",
       "      <td>romanian</td>\n",
       "      <td>0</td>\n",
       "      <td>1</td>\n",
       "      <td>488</td>\n",
       "      <td>3.761200</td>\n",
       "      <td>Accar Hotels</td>\n",
       "      <td>Safitel</td>\n",
       "      <td>1</td>\n",
       "      <td>1</td>\n",
       "      <td>1</td>\n",
       "    </tr>\n",
       "    <tr>\n",
       "      <th>...</th>\n",
       "      <td>...</td>\n",
       "      <td>...</td>\n",
       "      <td>...</td>\n",
       "      <td>...</td>\n",
       "      <td>...</td>\n",
       "      <td>...</td>\n",
       "      <td>...</td>\n",
       "      <td>...</td>\n",
       "      <td>...</td>\n",
       "      <td>...</td>\n",
       "      <td>...</td>\n",
       "      <td>...</td>\n",
       "      <td>...</td>\n",
       "    </tr>\n",
       "    <tr>\n",
       "      <th>6639</th>\n",
       "      <td>843</td>\n",
       "      <td>rome</td>\n",
       "      <td>5</td>\n",
       "      <td>irish</td>\n",
       "      <td>0</td>\n",
       "      <td>794</td>\n",
       "      <td>987</td>\n",
       "      <td>0.693147</td>\n",
       "      <td>Accar Hotels</td>\n",
       "      <td>Ibas</td>\n",
       "      <td>1</td>\n",
       "      <td>0</td>\n",
       "      <td>0</td>\n",
       "    </tr>\n",
       "    <tr>\n",
       "      <th>6640</th>\n",
       "      <td>844</td>\n",
       "      <td>vienna</td>\n",
       "      <td>1</td>\n",
       "      <td>irish</td>\n",
       "      <td>1</td>\n",
       "      <td>794</td>\n",
       "      <td>26</td>\n",
       "      <td>0.693147</td>\n",
       "      <td>Accar Hotels</td>\n",
       "      <td>Marcure</td>\n",
       "      <td>1</td>\n",
       "      <td>0</td>\n",
       "      <td>0</td>\n",
       "    </tr>\n",
       "    <tr>\n",
       "      <th>6641</th>\n",
       "      <td>844</td>\n",
       "      <td>vienna</td>\n",
       "      <td>1</td>\n",
       "      <td>irish</td>\n",
       "      <td>1</td>\n",
       "      <td>794</td>\n",
       "      <td>263</td>\n",
       "      <td>0.000000</td>\n",
       "      <td>Boss Western</td>\n",
       "      <td>Boss Western</td>\n",
       "      <td>1</td>\n",
       "      <td>0</td>\n",
       "      <td>0</td>\n",
       "    </tr>\n",
       "    <tr>\n",
       "      <th>6642</th>\n",
       "      <td>844</td>\n",
       "      <td>vienna</td>\n",
       "      <td>1</td>\n",
       "      <td>irish</td>\n",
       "      <td>1</td>\n",
       "      <td>794</td>\n",
       "      <td>456</td>\n",
       "      <td>0.000000</td>\n",
       "      <td>Yin Yang</td>\n",
       "      <td>Ardisson</td>\n",
       "      <td>1</td>\n",
       "      <td>0</td>\n",
       "      <td>0</td>\n",
       "    </tr>\n",
       "    <tr>\n",
       "      <th>6643</th>\n",
       "      <td>844</td>\n",
       "      <td>vienna</td>\n",
       "      <td>1</td>\n",
       "      <td>irish</td>\n",
       "      <td>1</td>\n",
       "      <td>794</td>\n",
       "      <td>699</td>\n",
       "      <td>0.000000</td>\n",
       "      <td>Boss Western</td>\n",
       "      <td>Boss Western</td>\n",
       "      <td>1</td>\n",
       "      <td>0</td>\n",
       "      <td>0</td>\n",
       "    </tr>\n",
       "  </tbody>\n",
       "</table>\n",
       "<p>6644 rows × 13 columns</p>\n",
       "</div>"
      ],
      "text/plain": [
       "     request_number     city  date  language mobile  avatar_id hotel_id  \\\n",
       "0                 1  vilnius    21  romanian      0          1      161   \n",
       "1                 1  vilnius    21  romanian      0          1      187   \n",
       "2                 1  vilnius    21  romanian      0          1      279   \n",
       "3                 1  vilnius    21  romanian      0          1      395   \n",
       "4                 1  vilnius    21  romanian      0          1      488   \n",
       "...             ...      ...   ...       ...    ...        ...      ...   \n",
       "6639            843     rome     5     irish      0        794      987   \n",
       "6640            844   vienna     1     irish      1        794       26   \n",
       "6641            844   vienna     1     irish      1        794      263   \n",
       "6642            844   vienna     1     irish      1        794      456   \n",
       "6643            844   vienna     1     irish      1        794      699   \n",
       "\n",
       "         stock         group           brand parking pool children_policy  \n",
       "0     3.850148  Boss Western  J.Halliday Inn       1    0               0  \n",
       "1     3.496508  Accar Hotels         Marcure       1    1               0  \n",
       "2     2.564949   Independant     Independant       1    0               0  \n",
       "3     2.397895  Accar Hotels            Ibas       0    0               0  \n",
       "4     3.761200  Accar Hotels         Safitel       1    1               1  \n",
       "...        ...           ...             ...     ...  ...             ...  \n",
       "6639  0.693147  Accar Hotels            Ibas       1    0               0  \n",
       "6640  0.693147  Accar Hotels         Marcure       1    0               0  \n",
       "6641  0.000000  Boss Western    Boss Western       1    0               0  \n",
       "6642  0.000000      Yin Yang        Ardisson       1    0               0  \n",
       "6643  0.000000  Boss Western    Boss Western       1    0               0  \n",
       "\n",
       "[6644 rows x 13 columns]"
      ]
     },
     "execution_count": 8,
     "metadata": {},
     "output_type": "execute_result"
    }
   ],
   "source": [
    "eval_set_kaggle_detailed"
   ]
  },
  {
   "cell_type": "markdown",
   "id": "49629b3d",
   "metadata": {},
   "source": [
    "### Obtention du pipeline\n",
    "\n",
    "Les noms sont à adapter : charger les modèles et standard scaler correspondant(date)"
   ]
  },
  {
   "cell_type": "code",
   "execution_count": 11,
   "id": "3e8ebb61",
   "metadata": {},
   "outputs": [
    {
     "name": "stderr",
     "output_type": "stream",
     "text": [
      "/usr/local/insa/anaconda/lib/python3.9/site-packages/xgboost/compat.py:36: FutureWarning: pandas.Int64Index is deprecated and will be removed from pandas in a future version. Use pandas.Index with the appropriate dtype instead.\n",
      "  from pandas import MultiIndex, Int64Index\n"
     ]
    }
   ],
   "source": [
    "model_folder = \"/models_sav\"\n",
    "loaded_model = pickle.load(open(PATH + model_folder +\"/2000_XGboost_target_encoding.sav\", 'rb'))"
   ]
  },
  {
   "cell_type": "markdown",
   "id": "082abce5",
   "metadata": {},
   "source": [
    "### Prédiction et enregistrement csv"
   ]
  },
  {
   "cell_type": "code",
   "execution_count": 12,
   "id": "67e33998",
   "metadata": {},
   "outputs": [
    {
     "name": "stdout",
     "output_type": "stream",
     "text": [
      "      index       price\n",
      "0         0  114.642639\n",
      "1         1  144.299026\n",
      "2         2   57.844692\n",
      "3         3   57.087265\n",
      "4         4  190.192581\n",
      "...     ...         ...\n",
      "6639   6639   80.501289\n",
      "6640   6640  191.581085\n",
      "6641   6641  136.345383\n",
      "6642   6642  180.029724\n",
      "6643   6643  138.280319\n",
      "\n",
      "[6644 rows x 2 columns]\n"
     ]
    }
   ],
   "source": [
    "pred_eval = loaded_model.predict(dfC_eval_set_kaggle)\n",
    "predict =pd.DataFrame(list(zip(idx, pred_eval**2)), columns=['index', 'price']) #### Mettre la prediction au carré car tranfor sqrt dans la transformation des données\n",
    "predict.to_csv('submission.csv', index=False)\n",
    "print(predict)"
   ]
  },
  {
   "cell_type": "code",
   "execution_count": 65,
   "id": "804d9d9f",
   "metadata": {},
   "outputs": [
    {
     "data": {
      "text/plain": [
       "RandomForestRegressor(n_estimators=500, oob_score=True)"
      ]
     },
     "execution_count": 65,
     "metadata": {},
     "output_type": "execute_result"
    }
   ],
   "source": [
    "loaded_model"
   ]
  },
  {
   "cell_type": "code",
   "execution_count": null,
   "id": "357ac5c3",
   "metadata": {},
   "outputs": [],
   "source": []
  }
 ],
 "metadata": {
  "kernelspec": {
   "display_name": "Python 3 (ipykernel)",
   "language": "python",
   "name": "python3"
  },
  "language_info": {
   "codemirror_mode": {
    "name": "ipython",
    "version": 3
   },
   "file_extension": ".py",
   "mimetype": "text/x-python",
   "name": "python",
   "nbconvert_exporter": "python",
   "pygments_lexer": "ipython3",
   "version": "3.9.7"
  },
  "toc": {
   "base_numbering": 1,
   "nav_menu": {},
   "number_sections": true,
   "sideBar": true,
   "skip_h1_title": false,
   "title_cell": "Table of Contents",
   "title_sidebar": "Contents",
   "toc_cell": false,
   "toc_position": {},
   "toc_section_display": true,
   "toc_window_display": false
  }
 },
 "nbformat": 4,
 "nbformat_minor": 5
}
